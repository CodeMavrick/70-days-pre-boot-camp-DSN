{
 "cells": [
  {
   "cell_type": "markdown",
   "metadata": {},
   "source": [
    "## 70 DAYS PRE-BOOTCAMP"
   ]
  },
  {
   "cell_type": "code",
   "execution_count": 7,
   "metadata": {},
   "outputs": [],
   "source": [
    "import pandas as pd\n",
    "import quandl\n",
    "import math"
   ]
  },
  {
   "cell_type": "code",
   "execution_count": 8,
   "metadata": {},
   "outputs": [
    {
     "name": "stdout",
     "output_type": "stream",
     "text": [
      "              Open    High     Low    Close      Volume  Ex-Dividend  \\\n",
      "Date                                                                   \n",
      "2004-08-19  100.01  104.06   95.96  100.335  44659000.0          0.0   \n",
      "2004-08-20  101.01  109.08  100.50  108.310  22834300.0          0.0   \n",
      "2004-08-23  110.76  113.48  109.05  109.400  18256100.0          0.0   \n",
      "2004-08-24  111.24  111.60  103.57  104.870  15247300.0          0.0   \n",
      "2004-08-25  104.76  108.00  103.88  106.000   9188600.0          0.0   \n",
      "\n",
      "            Split Ratio  Adj. Open  Adj. High   Adj. Low  Adj. Close  \\\n",
      "Date                                                                   \n",
      "2004-08-19          1.0  50.159839  52.191109  48.128568   50.322842   \n",
      "2004-08-20          1.0  50.661387  54.708881  50.405597   54.322689   \n",
      "2004-08-23          1.0  55.551482  56.915693  54.693835   54.869377   \n",
      "2004-08-24          1.0  55.792225  55.972783  51.945350   52.597363   \n",
      "2004-08-25          1.0  52.542193  54.167209  52.100830   53.164113   \n",
      "\n",
      "            Adj. Volume  \n",
      "Date                     \n",
      "2004-08-19   44659000.0  \n",
      "2004-08-20   22834300.0  \n",
      "2004-08-23   18256100.0  \n",
      "2004-08-24   15247300.0  \n",
      "2004-08-25    9188600.0  \n"
     ]
    }
   ],
   "source": [
    "quandl.ApiConfig.api_key = \"2JbCQwzVzkWZmz9vjfNn\"\n",
    "df = quandl.get('WIKI/GOOGL')\n",
    "print(df.head())"
   ]
  },
  {
   "cell_type": "code",
   "execution_count": 9,
   "metadata": {},
   "outputs": [],
   "source": [
    "df['HL_PCT'] = (df['Adj. High'] - df['Adj. Close']) / df['Adj. Close'] * 100.0\n",
    "df['PCT_Change'] = (df['Adj. Close'] - df['Adj. Open']) / df['Adj. Open'] * 100.0"
   ]
  },
  {
   "cell_type": "code",
   "execution_count": 10,
   "metadata": {
    "scrolled": true
   },
   "outputs": [
    {
     "data": {
      "text/html": [
       "<div>\n",
       "<style scoped>\n",
       "    .dataframe tbody tr th:only-of-type {\n",
       "        vertical-align: middle;\n",
       "    }\n",
       "\n",
       "    .dataframe tbody tr th {\n",
       "        vertical-align: top;\n",
       "    }\n",
       "\n",
       "    .dataframe thead th {\n",
       "        text-align: right;\n",
       "    }\n",
       "</style>\n",
       "<table border=\"1\" class=\"dataframe\">\n",
       "  <thead>\n",
       "    <tr style=\"text-align: right;\">\n",
       "      <th></th>\n",
       "      <th>Adj. Close</th>\n",
       "      <th>HL_PCT</th>\n",
       "      <th>PCT_Change</th>\n",
       "      <th>Adj. Volume</th>\n",
       "    </tr>\n",
       "    <tr>\n",
       "      <th>Date</th>\n",
       "      <th></th>\n",
       "      <th></th>\n",
       "      <th></th>\n",
       "      <th></th>\n",
       "    </tr>\n",
       "  </thead>\n",
       "  <tbody>\n",
       "    <tr>\n",
       "      <td>2018-03-21</td>\n",
       "      <td>1094.00</td>\n",
       "      <td>1.343693</td>\n",
       "      <td>0.130884</td>\n",
       "      <td>1990515.0</td>\n",
       "    </tr>\n",
       "    <tr>\n",
       "      <td>2018-03-22</td>\n",
       "      <td>1053.15</td>\n",
       "      <td>2.921711</td>\n",
       "      <td>-2.487014</td>\n",
       "      <td>3418154.0</td>\n",
       "    </tr>\n",
       "    <tr>\n",
       "      <td>2018-03-23</td>\n",
       "      <td>1026.55</td>\n",
       "      <td>3.918952</td>\n",
       "      <td>-2.360729</td>\n",
       "      <td>2413517.0</td>\n",
       "    </tr>\n",
       "    <tr>\n",
       "      <td>2018-03-26</td>\n",
       "      <td>1054.09</td>\n",
       "      <td>0.491419</td>\n",
       "      <td>0.332191</td>\n",
       "      <td>3272409.0</td>\n",
       "    </tr>\n",
       "    <tr>\n",
       "      <td>2018-03-27</td>\n",
       "      <td>1006.94</td>\n",
       "      <td>5.720301</td>\n",
       "      <td>-5.353887</td>\n",
       "      <td>2940957.0</td>\n",
       "    </tr>\n",
       "  </tbody>\n",
       "</table>\n",
       "</div>"
      ],
      "text/plain": [
       "            Adj. Close    HL_PCT  PCT_Change  Adj. Volume\n",
       "Date                                                     \n",
       "2018-03-21     1094.00  1.343693    0.130884    1990515.0\n",
       "2018-03-22     1053.15  2.921711   -2.487014    3418154.0\n",
       "2018-03-23     1026.55  3.918952   -2.360729    2413517.0\n",
       "2018-03-26     1054.09  0.491419    0.332191    3272409.0\n",
       "2018-03-27     1006.94  5.720301   -5.353887    2940957.0"
      ]
     },
     "execution_count": 10,
     "metadata": {},
     "output_type": "execute_result"
    }
   ],
   "source": [
    "df = df[['Adj. Close', 'HL_PCT', 'PCT_Change', 'Adj. Volume']]\n",
    "df.tail()"
   ]
  },
  {
   "cell_type": "code",
   "execution_count": 11,
   "metadata": {},
   "outputs": [
    {
     "name": "stdout",
     "output_type": "stream",
     "text": [
      "            Adj. Close    HL_PCT  PCT_Change  Adj. Volume  Label\n",
      "Date                                                            \n",
      "2018-03-21     1094.00  1.343693    0.130884    1990515.0    NaN\n",
      "2018-03-22     1053.15  2.921711   -2.487014    3418154.0    NaN\n",
      "2018-03-23     1026.55  3.918952   -2.360729    2413517.0    NaN\n",
      "2018-03-26     1054.09  0.491419    0.332191    3272409.0    NaN\n",
      "2018-03-27     1006.94  5.720301   -5.353887    2940957.0    NaN\n"
     ]
    }
   ],
   "source": [
    "forecast_col = 'Adj. Close'\n",
    "forecast_out = int(math.ceil(0.01*len(df)))\n",
    "df['Label'] = df[forecast_col].shift(-forecast_out)\n",
    "print(df.tail())"
   ]
  },
  {
   "cell_type": "code",
   "execution_count": 12,
   "metadata": {},
   "outputs": [],
   "source": [
    "import numpy as np\n",
    "from sklearn.linear_model import LinearRegression\n",
    "from sklearn.model_selection import train_test_split\n",
    "from sklearn.preprocessing import scale\n",
    "import datetime\n",
    "import matplotlib.pyplot as plt\n",
    "from matplotlib import style\n",
    "import pickle"
   ]
  },
  {
   "cell_type": "code",
   "execution_count": 13,
   "metadata": {},
   "outputs": [
    {
     "name": "stdout",
     "output_type": "stream",
     "text": [
      "[1102.06206346 1072.68952623 1020.0068159  1060.82090626 1072.96115893\n",
      " 1073.20285453 1091.79017958 1111.00222769 1114.32920387 1122.39932116\n",
      " 1131.78593415 1129.13433196 1148.41449184 1164.04733347 1135.95474776\n",
      " 1122.17092251 1088.16295591 1102.94594662 1113.99023094 1120.9253976\n",
      " 1134.7646226  1149.43645751 1180.91319175 1185.48556617 1157.69205961\n",
      " 1168.37873183 1170.22930189 1153.09822707 1118.44413397 1114.7699913\n",
      " 1112.64797585 1070.04231703 1042.51774156 1072.72282534 1021.55629642] 0.976976632638207 35\n",
      "                     Adj. Close  HL_PCT  PCT_Change  Adj. Volume  Label  \\\n",
      "Date                                                                      \n",
      "2018-03-08 01:00:00         NaN     NaN         NaN          NaN    NaN   \n",
      "2018-03-09 01:00:00         NaN     NaN         NaN          NaN    NaN   \n",
      "2018-03-10 01:00:00         NaN     NaN         NaN          NaN    NaN   \n",
      "2018-03-11 01:00:00         NaN     NaN         NaN          NaN    NaN   \n",
      "2018-03-12 01:00:00         NaN     NaN         NaN          NaN    NaN   \n",
      "\n",
      "                        Forecast  \n",
      "Date                              \n",
      "2018-03-08 01:00:00  1112.647976  \n",
      "2018-03-09 01:00:00  1070.042317  \n",
      "2018-03-10 01:00:00  1042.517742  \n",
      "2018-03-11 01:00:00  1072.722825  \n",
      "2018-03-12 01:00:00  1021.556296  \n"
     ]
    },
    {
     "data": {
      "image/png": "[encoded data removed]",
      "text/plain": [
       "<Figure size 432x288 with 1 Axes>"
      ]
     },
     "metadata": {},
     "output_type": "display_data"
    }
   ],
   "source": [
    "style.use('ggplot')\n",
    "\n",
    "X = np.array(df.drop(['Label'], 1))\n",
    "X = scale(X)\n",
    "\n",
    "X_lately= X[-forecast_out:]\n",
    "X= X[:-forecast_out]\n",
    "\n",
    "\n",
    "df.dropna(inplace=True)\n",
    "y = np.array(df['Label'])\n",
    "\n",
    "\n",
    "X_train, X_test, y_train, y_test = train_test_split(X, y, test_size=0.2, random_state=1)\n",
    "#lr = LinearRegression()\n",
    "#lr.fit(X_train, y_train)\n",
    "\n",
    "#with open('LinearRegressor.pickle', 'wb') as f:\n",
    "#    pickle.dump(lr, f)\n",
    "\n",
    "pickle_in = open('LinearRegressor.pickle', 'rb')\n",
    "lr= pickle.load(pickle_in)\n",
    "\n",
    "accuracy=lr.score(X_test, y_test)\n",
    "\n",
    "forecast_set = lr.predict(X_lately)\n",
    "print(forecast_set, accuracy, forecast_out)\n",
    "df['Forecast'] = np.nan\n",
    "\n",
    "#Plotting results\n",
    "last_date = df.iloc[-1].name\n",
    "last_unix = last_date.timestamp()\n",
    "one_day = 86400\n",
    "next_unix = last_unix + one_day\n",
    "\n",
    "for i in forecast_set:\n",
    "    next_date = datetime.datetime.fromtimestamp(next_unix)\n",
    "    next_unix += one_day\n",
    "    df.loc[next_date]= [np.nan for _ in range(len(df.columns)-1)] + [i]\n",
    "\n",
    "print(df.tail())\n",
    "\n",
    "df['Adj. Close'].plot()\n",
    "df['Forecast'].plot()\n",
    "plt.legend(loc=4)\n",
    "plt.xlabel('Date')\n",
    "plt.ylabel('Price')\n",
    "plt.show()"
   ]
  },
  {
   "cell_type": "code",
   "execution_count": 3,
   "metadata": {},
   "outputs": [],
   "source": [
    "import numpy as np\n",
    "from statistics import mean\n",
    "import matplotlib.pyplot as plt\n",
    "from matplotlib import style\n",
    "import random\n",
    "style.use('fivethirtyeight')"
   ]
  },
  {
   "cell_type": "code",
   "execution_count": 6,
   "metadata": {},
   "outputs": [
    {
     "name": "stdout",
     "output_type": "stream",
     "text": [
      "0.941917148564348\n"
     ]
    },
    {
     "data": {
      "image/png": "[encoded data removed]",
      "text/plain": [
       "<Figure size 432x288 with 1 Axes>"
      ]
     },
     "metadata": {
      "needs_background": "light"
     },
     "output_type": "display_data"
    }
   ],
   "source": [
    "%matplotlib inline\n",
    "#xs=np.array([1,2,3,4,5,6], dtype=np.float64)\n",
    "#ys=np.array([5,4,6,5,6,7], dtype=np.float64)\n",
    "\n",
    "def create_dataset(hm, variance, step=2, correlation=False):\n",
    "    val = 1\n",
    "    ys = []\n",
    "    for i in range(hm):\n",
    "        y = val+ random.randrange(-variance, variance)\n",
    "        ys.append(y)\n",
    "        if correlation and correlation == 'pos':\n",
    "            val+=step\n",
    "        elif correlation and correlation == 'neg':\n",
    "            val-=step\n",
    "    xs = [i for i in range(len(ys))]\n",
    "    return np.array(xs, dtype=np.float64), np.array(ys, dtype=np.float64)\n",
    "    \n",
    "\n",
    "def best_fit_slope_and_intercept(xs, ys):\n",
    "    m = (((mean(xs)*mean(ys)) - mean(xs*ys))/\n",
    "          (mean(xs)**2 - mean(xs**2)))\n",
    "    b = mean(ys) - m*mean(xs)\n",
    "    return m, b\n",
    "\n",
    "def squared_error(ys_orig, ys_line):\n",
    "    return sum((ys_line - ys_orig)**2)\n",
    "\n",
    "def coefficient_of_determination(ys_orig, ys_line):\n",
    "    y_mean_line = [mean(ys_orig) for y in ys_orig]\n",
    "    \n",
    "    squared_error_regr = squared_error(ys_orig, ys_line)\n",
    "    squared_error_y_mean_line = squared_error(ys_orig, y_mean_line)\n",
    "    return 1 - (squared_error_regr/squared_error_y_mean_line)\n",
    "\n",
    "xs, ys = create_dataset(40, 10, 2, correlation='pos')\n",
    "\n",
    "m, b = best_fit_slope_and_intercept(xs, ys)\n",
    "\n",
    "regression_line = [m*x + b for x in xs]\n",
    "\n",
    "predict_x = 8\n",
    "predict_y = m*predict_x + b\n",
    "\n",
    "r_squared = coefficient_of_determination(ys, regression_line)\n",
    "print(r_squared)\n",
    "plt.scatter(xs, ys)\n",
    "plt.scatter(predict_x, predict_y, color='g')\n",
    "plt.plot(xs, regression_line)\n",
    "plt.show()\n"
   ]
  },
  {
   "cell_type": "code",
   "execution_count": 7,
   "metadata": {},
   "outputs": [],
   "source": [
    "import numpy as np\n",
    "import pandas as pd\n",
    "from sklearn.model_selection import train_test_split\n",
    "from sklearn.neighbors import KNeighborsClassifier"
   ]
  },
  {
   "cell_type": "code",
   "execution_count": 27,
   "metadata": {},
   "outputs": [
    {
     "name": "stdout",
     "output_type": "stream",
     "text": [
      "0.9785714285714285\n",
      "[2 4]\n"
     ]
    }
   ],
   "source": [
    "df = pd.read_csv('breast-cancer-wisconsin.data')\n",
    "\n",
    "df.drop(['id'], 1, inplace=True)\n",
    "df.replace('?', -99999, inplace=True)\n",
    "X = np.array(df.drop(['label'], 1))\n",
    "y= np.array(df['label'])\n",
    "\n",
    "X_train, X_test, y_train, y_test = train_test_split(X, y, test_size=0.2, random_state=1)\n",
    "\n",
    "clf= KNeighborsClassifier(n_neighbors=3)\n",
    "clf.fit(X_train, y_train)\n",
    "\n",
    "accuracy = clf.score(X_test, y_test)\n",
    "print(accuracy)\n",
    "\n",
    "example_measures=np.array([[4,2,1,1,1,2,3,2,1], [7,2,3,5,1,2,3,4,1]])\n",
    "\n",
    "prediction = clf.predict(example_measures)\n",
    "print(prediction)"
   ]
  },
  {
   "cell_type": "code",
   "execution_count": 28,
   "metadata": {},
   "outputs": [
    {
     "name": "stdout",
     "output_type": "stream",
     "text": [
      "2.23606797749979\n"
     ]
    }
   ],
   "source": [
    "from math import sqrt\n",
    "\n",
    "point1= [1, 3]\n",
    "point2 = [2, 5]\n",
    "\n",
    "eucledian_distance = sqrt((point1[0]-point2[0])**2 + (point1[1]-point2[1])**2)\n",
    "print(eucledian_distance)"
   ]
  },
  {
   "cell_type": "code",
   "execution_count": 31,
   "metadata": {},
   "outputs": [],
   "source": [
    "import numpy as np\n",
    "import warnings\n",
    "from collections import Counter\n",
    "import matplotlib.pyplot as plt\n",
    "from matplotlib import style\n",
    "style.use('fivethirtyeight')"
   ]
  },
  {
   "cell_type": "code",
   "execution_count": 40,
   "metadata": {},
   "outputs": [
    {
     "name": "stdout",
     "output_type": "stream",
     "text": [
      "r\n"
     ]
    },
    {
     "data": {
      "text/plain": [
       "<function matplotlib.pyplot.show(*args, **kw)>"
      ]
     },
     "execution_count": 40,
     "metadata": {},
     "output_type": "execute_result"
    },
    {
     "data": {
      "image/png": "[encoded data removed]",
      "text/plain": [
       "<Figure size 432x288 with 1 Axes>"
      ]
     },
     "metadata": {},
     "output_type": "display_data"
    }
   ],
   "source": [
    "dataset = {'k':[[1,2],[2,3],[3,1]], 'r':[[6,5],[7,7],[8,6]]}\n",
    "new_features = [5,7]\n",
    "\n",
    "def k_nearest_neighbors(data, predict, k=3):\n",
    "    if len(data) >= k:\n",
    "        warnings.warn('k is set to a value less than total voting groups!')\n",
    "    \n",
    "    distances = []\n",
    "    for group in data:\n",
    "        for features in data[group]:\n",
    "            eucledian_distance=np.linalg.norm(np.array(features)-np.array(predict))\n",
    "            distances.append([eucledian_distance, group])\n",
    "            \n",
    "    votes=[i[1] for i in sorted(distances)[:k]]\n",
    "    vote_result = Counter(votes).most_common(1)[0][0]\n",
    "    \n",
    "    return vote_result\n",
    "\n",
    "result = k_nearest_neighbors(dataset, new_features, k=3)\n",
    "print(result)\n",
    "\n",
    "[[plt.scatter(ii[0], ii[1], s=100, color=i) for ii in dataset[i]]for i in dataset]\n",
    "plt.scatter(new_features[0], new_features[1], color=result)\n",
    "plt.show        "
   ]
  },
  {
   "cell_type": "code",
   "execution_count": 1,
   "metadata": {},
   "outputs": [],
   "source": [
    "import matplotlib.pyplot as plt\n",
    "from matplotlib import style \n",
    "import numpy as np\n",
    "style.use('ggplot')"
   ]
  },
  {
   "cell_type": "code",
   "execution_count": 7,
   "metadata": {},
   "outputs": [
    {
     "name": "stdout",
     "output_type": "stream",
     "text": [
      "optimized a step....\n",
      "optimized a step....\n",
      "optimized a step....\n"
     ]
    },
    {
     "data": {
      "image/png": "[encoded data removed]",
      "text/plain": [
       "<Figure size 432x288 with 1 Axes>"
      ]
     },
     "metadata": {
      "needs_background": "light"
     },
     "output_type": "display_data"
    }
   ],
   "source": [
    "class Support_Vector_Machine:\n",
    "    def __init__(self, visualization=True):\n",
    "        self.visualization = visualization\n",
    "        self.colors = {1: 'r', -1: 'b'}\n",
    "        if self.visualization:\n",
    "            self.fig = plt.figure()\n",
    "            self.ax = self.fig.add_subplot(1, 1, 1)\n",
    "    \n",
    "    def fit(self, data):\n",
    "        self.data=data\n",
    "        #{||w||: [w,b]}\n",
    "        opt_dict = {}\n",
    "        \n",
    "        transforms = [[1,1],\n",
    "                     [-1,1],\n",
    "                     [-1,-1],\n",
    "                     [1,-1]]\n",
    "        \n",
    "        all_data = []\n",
    "        for yi in self.data:\n",
    "            for featureset in self.data[yi]:\n",
    "                for feature in featureset:\n",
    "                    all_data.append(feature)\n",
    "        \n",
    "        self.max_feature_value = max(all_data)\n",
    "        self.min_feature_value = min(all_data)\n",
    "        all_data = None\n",
    "        \n",
    "        step_sizes = [self.max_feature_value*0.1,\n",
    "                     self.max_feature_value*0.01,\n",
    "                     #point of expense\n",
    "                     self.max_feature_value*0.001]\n",
    "        \n",
    "        #extremely expensive\n",
    "        b_range_multiple = 5\n",
    "        b_multiple=5\n",
    "        \n",
    "        latest_optimum = self.max_feature_value*10\n",
    "        \n",
    "        for step in step_sizes:\n",
    "            w = np.array([latest_optimum, latest_optimum])\n",
    "            \n",
    "            #we can do this because CONVEX\n",
    "            optimized = False\n",
    "            while not optimized:\n",
    "                for b in np.arange(-1*(self.max_feature_value * b_range_multiple), self.max_feature_value * b_range_multiple, step*b_multiple):\n",
    "                    for transformation in transforms:\n",
    "                        w_t = w*transformation\n",
    "                        \n",
    "                        found_option = True\n",
    "                        for i in self.data:\n",
    "                            for xi in self.data[i]:\n",
    "                                yi = i\n",
    "                                if not yi*(np.dot(w_t, xi)+b)>=1:\n",
    "                                    found_option = False\n",
    "                                    \n",
    "                        if found_option:\n",
    "                            opt_dict[np.linalg.norm(w_t)]=[w_t, b]\n",
    "                            \n",
    "                if w[0]<0:\n",
    "                    optimized = True\n",
    "                    print('optimized a step....')\n",
    "                else:\n",
    "                    w = w-step\n",
    "        \n",
    "        norms = sorted([n for n in opt_dict])\n",
    "        opt_choice= opt_dict [norms[0]]\n",
    "        \n",
    "        self.w = opt_choice[0]\n",
    "        self.b = opt_choice[1]\n",
    "        latest_optimum = opt_choice[0][0]+step*2\n",
    "        \n",
    "    def predict (self, features):\n",
    "        #sign (x.w+b)\n",
    "        classification = np.sign(np.dot(np.array(features), self.w) + self.b)\n",
    "        if classification != 0 and self.visualization:\n",
    "            self.ax.scatter(features[0], features[1], s=200, marker='*', c=self.colors[classification])\n",
    "        \n",
    "        return classification \n",
    "\n",
    "    def visualize(self):\n",
    "        [[self.ax.scatter(x[0], x[1], s=100, color=self.colors[i]) for x in data_dict[i]] for i in data_dict]\n",
    "        \n",
    "        def hyperplane(x, w, b, v):\n",
    "            return (-w[0]*x - b+v)/ w[1]\n",
    "        \n",
    "        datarange = (self.min_feature_value*0.9, self.max_feature_value*1.1)\n",
    "        hyp_x_min = datarange[0]\n",
    "        hyp_x_max = datarange[1]\n",
    "        \n",
    "        #(w.x + b) = 1\n",
    "        #positive support vector hyperplane\n",
    "        psv1 = hyperplane(hyp_x_min, self.w, self.b, 1)\n",
    "        psv2 = hyperplane(hyp_x_max, self.w, self.b, 1)\n",
    "        self.ax.plot([hyp_x_min, hyp_x_max], [psv1, psv2], 'k')\n",
    "        \n",
    "        #(w.x + b) = -1\n",
    "        #negative support vector hyperplane\n",
    "        nsv1 = hyperplane(hyp_x_min, self.w, self.b, -1)\n",
    "        nsv2 = hyperplane(hyp_x_max, self.w, self.b, -1)\n",
    "        self.ax.plot([hyp_x_min, hyp_x_max], [nsv1, nsv2], 'k')\n",
    "        \n",
    "        #(w.x + b) = 0\n",
    "        #neutral support vector hyperplane\n",
    "        db1 = hyperplane(hyp_x_min, self.w, self.b, 0)\n",
    "        db2 = hyperplane(hyp_x_max, self.w, self.b, 0)\n",
    "        self.ax.plot([hyp_x_min, hyp_x_max], [db1, db2], 'y--')\n",
    "        \n",
    "        plt.show()\n",
    "        \n",
    "data_dict = {-1:([[1,7],\n",
    "                 [2,8],\n",
    "                 [3,8]]),\n",
    "            1:np.array([[5,1],\n",
    "                       [6,-1],\n",
    "                       [7,3]])}\n",
    "\n",
    "svm = Support_Vector_Machine()\n",
    "svm.fit(data = data_dict)"
   ]
  },
  {
   "cell_type": "code",
   "execution_count": null,
   "metadata": {},
   "outputs": [],
   "source": []
  }
 ],
 "metadata": {
  "kernelspec": {
   "display_name": "Python 3",
   "language": "python",
   "name": "python3"
  },
  "language_info": {
   "codemirror_mode": {
    "name": "ipython",
    "version": 3
   },
   "file_extension": ".py",
   "mimetype": "text/x-python",
   "name": "python",
   "nbconvert_exporter": "python",
   "pygments_lexer": "ipython3",
   "version": "3.7.4"
  }
 },
 "nbformat": 4,
 "nbformat_minor": 2
}
